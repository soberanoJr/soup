{
 "cells": [
  {
   "cell_type": "markdown",
   "id": "723c7f62-0a62-466b-9966-f6e3c2b3538f",
   "metadata": {},
   "source": [
    "# Packages"
   ]
  },
  {
   "cell_type": "code",
   "execution_count": 1,
   "id": "7a9eb987-ef7d-432a-814d-ef1d11576726",
   "metadata": {},
   "outputs": [],
   "source": [
    "import csv\n",
    "import matplotlib.pyplot as plt\n",
    "import pandas as pd\n",
    "import random\n",
    "import requests\n",
    "import time\n",
    "from bs4 import BeautifulSoup"
   ]
  },
  {
   "cell_type": "markdown",
   "id": "4aebb39b-91d0-4754-8dc7-32ff58bc3bd1",
   "metadata": {},
   "source": [
    "# URL\n",
    "+ [Wikipedia: List of countries and dependencies by population](https://en.wikipedia.org/wiki/List_of_countries_and_dependencies_by_population)"
   ]
  },
  {
   "cell_type": "code",
   "execution_count": 2,
   "id": "28588834-72f9-445e-a834-7e0c1734a3a0",
   "metadata": {},
   "outputs": [],
   "source": [
    "url = \"https://en.wikipedia.org/wiki/List_of_countries_and_dependencies_by_population\""
   ]
  },
  {
   "cell_type": "markdown",
   "id": "ddaadcc7-1249-4eac-a52d-03d132cfa9a4",
   "metadata": {},
   "source": [
    "# Request & Response\n",
    "+ [Requests: HTTP for Humans](https://docs.python-requests.org/en/latest/)\n",
    "+ [Advanced Usage](https://docs.python-requests.org/en/master/user/advanced/)"
   ]
  },
  {
   "cell_type": "code",
   "execution_count": 3,
   "id": "0089be60-cd02-4f58-bea0-7aacdb5c8aad",
   "metadata": {},
   "outputs": [
    {
     "data": {
      "text/plain": [
       "<Response [200]>"
      ]
     },
     "execution_count": 3,
     "metadata": {},
     "output_type": "execute_result"
    }
   ],
   "source": [
    "s = requests.Session()\n",
    "response = s.get(url, timeout=10)\n",
    "response"
   ]
  },
  {
   "cell_type": "markdown",
   "id": "b1710633-8e79-4c98-a16e-5d18196c6ac9",
   "metadata": {},
   "source": [
    "# HTML Soup\n",
    "+ [Beautiful Soup Documentation](https://www.crummy.com/software/BeautifulSoup/bs4/doc/)"
   ]
  },
  {
   "cell_type": "code",
   "execution_count": 4,
   "id": "18b15f66-78d8-48b8-b1cc-dab02fe44a03",
   "metadata": {},
   "outputs": [
    {
     "data": {
      "text/plain": [
       "'List of countries and dependencies by population - Wikipedia'"
      ]
     },
     "execution_count": 4,
     "metadata": {},
     "output_type": "execute_result"
    }
   ],
   "source": [
    "soup = BeautifulSoup(response.content, 'html.parser')\n",
    "pretty = soup.prettify()\n",
    "soup.title.string"
   ]
  },
  {
   "cell_type": "markdown",
   "id": "6d61b7c3-dc66-4032-bc10-62341cfdffb7",
   "metadata": {},
   "source": [
    "# Table\n",
    "+ Sovereign states and dependencies by population"
   ]
  },
  {
   "cell_type": "code",
   "execution_count": 5,
   "id": "2909e789-7d54-4eef-8f1b-8ae3e36774b4",
   "metadata": {},
   "outputs": [],
   "source": [
    "table = soup.find('table', {\"class\": \"wikitable sortable\"})"
   ]
  },
  {
   "cell_type": "markdown",
   "id": "f636edac-c5f5-4972-af33-0651883858fe",
   "metadata": {},
   "source": [
    "# Columns"
   ]
  },
  {
   "cell_type": "code",
   "execution_count": 6,
   "id": "4869bcad-fb45-41a2-85ab-a085f817f9e9",
   "metadata": {},
   "outputs": [
    {
     "data": {
      "text/plain": [
       "7"
      ]
     },
     "execution_count": 6,
     "metadata": {},
     "output_type": "execute_result"
    }
   ],
   "source": [
    "for row in table.findAll(\"tr\"):\n",
    "    columns = row.findAll(\"td\")\n",
    "len(columns)"
   ]
  },
  {
   "cell_type": "markdown",
   "id": "daa83a0d-da6e-4359-afdd-ec8ad108660b",
   "metadata": {},
   "source": [
    "# Rows"
   ]
  },
  {
   "cell_type": "code",
   "execution_count": 7,
   "id": "6c3ea31e-c89d-4228-b8ac-8dd79067fcc8",
   "metadata": {},
   "outputs": [
    {
     "data": {
      "text/plain": [
       "243"
      ]
     },
     "execution_count": 7,
     "metadata": {},
     "output_type": "execute_result"
    }
   ],
   "source": [
    "rows = table.findAll(\"tr\")\n",
    "len(rows)"
   ]
  },
  {
   "cell_type": "markdown",
   "id": "50db6bf1-7231-40b6-a10b-ff367bfb58da",
   "metadata": {},
   "source": [
    "# Table Header"
   ]
  },
  {
   "cell_type": "code",
   "execution_count": 8,
   "id": "705a066b-34a6-413c-9384-b728391764fa",
   "metadata": {},
   "outputs": [
    {
     "name": "stdout",
     "output_type": "stream",
     "text": [
      "1/7 Country / Dependency\n",
      "2/7 Region\n",
      "3/7 Population\n",
      "4/7 Percentage of the world\n",
      "5/7 Date\n",
      "6/7 Source (official or from the United Nations)\n",
      "7/7 Notes\n"
     ]
    }
   ],
   "source": [
    "header = [th.text.rstrip() for th in rows[0].find_all(\"th\")][1:]\n",
    "for title in header:\n",
    "    print(f\"{header.index(title) + 1}/{len(header)} {title}\")"
   ]
  },
  {
   "cell_type": "markdown",
   "id": "cf096205-c27c-4cb1-bb88-5d08e3bc0310",
   "metadata": {},
   "source": [
    "# Data Analysis"
   ]
  },
  {
   "cell_type": "code",
   "execution_count": 9,
   "id": "96c67fa2-7c35-4c46-885f-2e6376e7616e",
   "metadata": {},
   "outputs": [
    {
     "data": {
      "text/html": [
       "<div>\n",
       "<style scoped>\n",
       "    .dataframe tbody tr th:only-of-type {\n",
       "        vertical-align: middle;\n",
       "    }\n",
       "\n",
       "    .dataframe tbody tr th {\n",
       "        vertical-align: top;\n",
       "    }\n",
       "\n",
       "    .dataframe thead th {\n",
       "        text-align: right;\n",
       "    }\n",
       "</style>\n",
       "<table border=\"1\" class=\"dataframe\">\n",
       "  <thead>\n",
       "    <tr style=\"text-align: right;\">\n",
       "      <th></th>\n",
       "      <th>Country</th>\n",
       "      <th>Region</th>\n",
       "      <th>Population</th>\n",
       "      <th>% of World</th>\n",
       "    </tr>\n",
       "  </thead>\n",
       "  <tbody>\n",
       "    <tr>\n",
       "      <th>0</th>\n",
       "      <td>China</td>\n",
       "      <td>Asia</td>\n",
       "      <td>1,412,600,000</td>\n",
       "      <td>17.8%</td>\n",
       "    </tr>\n",
       "    <tr>\n",
       "      <th>1</th>\n",
       "      <td>India</td>\n",
       "      <td>Asia</td>\n",
       "      <td>1,375,258,100</td>\n",
       "      <td>17.3%</td>\n",
       "    </tr>\n",
       "    <tr>\n",
       "      <th>2</th>\n",
       "      <td>United States</td>\n",
       "      <td>Americas</td>\n",
       "      <td>332,620,545</td>\n",
       "      <td>4.19%</td>\n",
       "    </tr>\n",
       "    <tr>\n",
       "      <th>3</th>\n",
       "      <td>Indonesia</td>\n",
       "      <td>Asia[b]</td>\n",
       "      <td>272,248,500</td>\n",
       "      <td>3.43%</td>\n",
       "    </tr>\n",
       "    <tr>\n",
       "      <th>4</th>\n",
       "      <td>Pakistan</td>\n",
       "      <td>Asia</td>\n",
       "      <td>225,199,937</td>\n",
       "      <td>2.84%</td>\n",
       "    </tr>\n",
       "    <tr>\n",
       "      <th>...</th>\n",
       "      <td>...</td>\n",
       "      <td>...</td>\n",
       "      <td>...</td>\n",
       "      <td>...</td>\n",
       "    </tr>\n",
       "    <tr>\n",
       "      <th>236</th>\n",
       "      <td>Niue (New Zealand)</td>\n",
       "      <td>Oceania</td>\n",
       "      <td>1,549</td>\n",
       "      <td>0%</td>\n",
       "    </tr>\n",
       "    <tr>\n",
       "      <th>237</th>\n",
       "      <td>Tokelau (New Zealand)</td>\n",
       "      <td>Oceania</td>\n",
       "      <td>1,501</td>\n",
       "      <td>0%</td>\n",
       "    </tr>\n",
       "    <tr>\n",
       "      <th>238</th>\n",
       "      <td>Vatican City</td>\n",
       "      <td>Europe</td>\n",
       "      <td>825</td>\n",
       "      <td>0%</td>\n",
       "    </tr>\n",
       "    <tr>\n",
       "      <th>239</th>\n",
       "      <td>Cocos (Keeling) Islands (Australia)</td>\n",
       "      <td>Oceania</td>\n",
       "      <td>573</td>\n",
       "      <td>0%</td>\n",
       "    </tr>\n",
       "    <tr>\n",
       "      <th>240</th>\n",
       "      <td>Pitcairn Islands (United Kingdom)</td>\n",
       "      <td>Oceania</td>\n",
       "      <td>40</td>\n",
       "      <td>0%</td>\n",
       "    </tr>\n",
       "  </tbody>\n",
       "</table>\n",
       "<p>241 rows × 4 columns</p>\n",
       "</div>"
      ],
      "text/plain": [
       "                                  Country    Region     Population % of World\n",
       "0                                   China      Asia  1,412,600,000      17.8%\n",
       "1                                   India      Asia  1,375,258,100      17.3%\n",
       "2                           United States  Americas    332,620,545      4.19%\n",
       "3                               Indonesia   Asia[b]    272,248,500      3.43%\n",
       "4                                Pakistan      Asia    225,199,937      2.84%\n",
       "..                                    ...       ...            ...        ...\n",
       "236                    Niue (New Zealand)   Oceania          1,549         0%\n",
       "237                 Tokelau (New Zealand)   Oceania          1,501         0%\n",
       "238                          Vatican City    Europe            825         0%\n",
       "239   Cocos (Keeling) Islands (Australia)   Oceania            573         0%\n",
       "240     Pitcairn Islands (United Kingdom)   Oceania             40         0%\n",
       "\n",
       "[241 rows x 4 columns]"
      ]
     },
     "execution_count": 9,
     "metadata": {},
     "output_type": "execute_result"
    }
   ],
   "source": [
    "data_list = []\n",
    "for row in rows[2:]:\n",
    "    data = [d.text.rstrip() for d in row.select(\"td\")]\n",
    "    data_list.append(data)\n",
    "data_list = pd.DataFrame(data_list, columns=header)\n",
    "df = data_list.copy()\n",
    "df.columns = [\"Country\", \"Region\", \"Population\", \"% of World\", \"Date\", \"Source\", \"Notes\"]\n",
    "df.drop(df.iloc[:, 4:7], axis=1)"
   ]
  },
  {
   "cell_type": "markdown",
   "id": "5866e097-72f8-4a4b-951a-62196bdd5456",
   "metadata": {},
   "source": [
    "# Float numbers"
   ]
  },
  {
   "cell_type": "code",
   "execution_count": 10,
   "id": "ce542b13-73df-4530-99b3-9da3797a1af9",
   "metadata": {},
   "outputs": [],
   "source": [
    "df[\"Population\"] = df[\"Population\"].apply(lambda x: float(x.split()[0].replace(',', '')))"
   ]
  },
  {
   "cell_type": "markdown",
   "id": "a32f6fcd-5752-4fc5-9568-26eff4463e44",
   "metadata": {},
   "source": [
    "# Top 10"
   ]
  },
  {
   "cell_type": "code",
   "execution_count": 11,
   "id": "b25b697c-1d6c-4711-8ffd-1c6f1e8a494e",
   "metadata": {},
   "outputs": [
    {
     "data": {
      "text/html": [
       "<div>\n",
       "<style scoped>\n",
       "    .dataframe tbody tr th:only-of-type {\n",
       "        vertical-align: middle;\n",
       "    }\n",
       "\n",
       "    .dataframe tbody tr th {\n",
       "        vertical-align: top;\n",
       "    }\n",
       "\n",
       "    .dataframe thead th {\n",
       "        text-align: right;\n",
       "    }\n",
       "</style>\n",
       "<table border=\"1\" class=\"dataframe\">\n",
       "  <thead>\n",
       "    <tr style=\"text-align: right;\">\n",
       "      <th></th>\n",
       "      <th>Country</th>\n",
       "      <th>Region</th>\n",
       "      <th>Population</th>\n",
       "      <th>% of World</th>\n",
       "    </tr>\n",
       "  </thead>\n",
       "  <tbody>\n",
       "    <tr>\n",
       "      <th>0</th>\n",
       "      <td>China</td>\n",
       "      <td>Asia</td>\n",
       "      <td>1412600000</td>\n",
       "      <td>17.8%</td>\n",
       "    </tr>\n",
       "    <tr>\n",
       "      <th>1</th>\n",
       "      <td>India</td>\n",
       "      <td>Asia</td>\n",
       "      <td>1375258100</td>\n",
       "      <td>17.3%</td>\n",
       "    </tr>\n",
       "    <tr>\n",
       "      <th>2</th>\n",
       "      <td>United States</td>\n",
       "      <td>Americas</td>\n",
       "      <td>332620545</td>\n",
       "      <td>4.19%</td>\n",
       "    </tr>\n",
       "    <tr>\n",
       "      <th>3</th>\n",
       "      <td>Indonesia</td>\n",
       "      <td>Asia[b]</td>\n",
       "      <td>272248500</td>\n",
       "      <td>3.43%</td>\n",
       "    </tr>\n",
       "    <tr>\n",
       "      <th>4</th>\n",
       "      <td>Pakistan</td>\n",
       "      <td>Asia</td>\n",
       "      <td>225199937</td>\n",
       "      <td>2.84%</td>\n",
       "    </tr>\n",
       "    <tr>\n",
       "      <th>5</th>\n",
       "      <td>Brazil</td>\n",
       "      <td>Americas</td>\n",
       "      <td>214505532</td>\n",
       "      <td>2.70%</td>\n",
       "    </tr>\n",
       "    <tr>\n",
       "      <th>6</th>\n",
       "      <td>Nigeria</td>\n",
       "      <td>Africa</td>\n",
       "      <td>211400708</td>\n",
       "      <td>2.66%</td>\n",
       "    </tr>\n",
       "    <tr>\n",
       "      <th>7</th>\n",
       "      <td>Bangladesh</td>\n",
       "      <td>Asia</td>\n",
       "      <td>172546412</td>\n",
       "      <td>2.17%</td>\n",
       "    </tr>\n",
       "    <tr>\n",
       "      <th>8</th>\n",
       "      <td>Russia</td>\n",
       "      <td>Europe[b]</td>\n",
       "      <td>145478097</td>\n",
       "      <td>1.83%</td>\n",
       "    </tr>\n",
       "    <tr>\n",
       "      <th>9</th>\n",
       "      <td>Mexico</td>\n",
       "      <td>Americas</td>\n",
       "      <td>127996051</td>\n",
       "      <td>1.61%</td>\n",
       "    </tr>\n",
       "  </tbody>\n",
       "</table>\n",
       "</div>"
      ],
      "text/plain": [
       "          Country     Region  Population % of World\n",
       "0           China       Asia  1412600000      17.8%\n",
       "1           India       Asia  1375258100      17.3%\n",
       "2   United States   Americas   332620545      4.19%\n",
       "3       Indonesia    Asia[b]   272248500      3.43%\n",
       "4        Pakistan       Asia   225199937      2.84%\n",
       "5          Brazil   Americas   214505532      2.70%\n",
       "6         Nigeria     Africa   211400708      2.66%\n",
       "7      Bangladesh       Asia   172546412      2.17%\n",
       "8          Russia  Europe[b]   145478097      1.83%\n",
       "9          Mexico   Americas   127996051      1.61%"
      ]
     },
     "execution_count": 11,
     "metadata": {},
     "output_type": "execute_result"
    }
   ],
   "source": [
    "df['Population'] = df['Population'].astype(int)\n",
    "top10 = df.sort_values(\"Population\",ascending=False).head(10)\n",
    "top10.drop(df.iloc[:, 4:7], axis=1)"
   ]
  },
  {
   "cell_type": "markdown",
   "id": "bef787c8-03ef-4222-b4c5-bc31b99edb54",
   "metadata": {},
   "source": [
    "# Data Plot"
   ]
  },
  {
   "cell_type": "code",
   "execution_count": 12,
   "id": "d4215f8e-f386-433c-b07a-d3d946c7852c",
   "metadata": {},
   "outputs": [
    {
     "data": {
      "image/png": "[encoded data removed]",
      "text/plain": [
       "<Figure size 432x288 with 1 Axes>"
      ]
     },
     "metadata": {},
     "output_type": "display_data"
    }
   ],
   "source": [
    "labels = top10['Country']\n",
    "sizes = top10['Population']\n",
    "colors = []\n",
    "for hexadecimal in range(10):\n",
    "    colors = colors + [\"#\"+''.join([random.choice('ABCDEF0123456789') for i in range(6)])]\n",
    "autopct = top10 ['% of World']\n",
    "explode = (0.1, 0.1, 0, 0, 0, 0, 0, 0, 0, 0)\n",
    "plt.pie(sizes, explode=explode, labels=labels, colors=colors, autopct='%1.1f%%', shadow=True, startangle=90)\n",
    "plt.axis('equal')\n",
    "plt.title(\"Top 10 Countries by Population\", color='white', backgroundcolor='black')\n",
    "plt.show()"
   ]
  }
 ],
 "metadata": {
  "kernelspec": {
   "display_name": "Python 3 (ipykernel)",
   "language": "python",
   "name": "python3"
  },
  "language_info": {
   "codemirror_mode": {
    "name": "ipython",
    "version": 3
   },
   "file_extension": ".py",
   "mimetype": "text/x-python",
   "name": "python",
   "nbconvert_exporter": "python",
   "pygments_lexer": "ipython3",
   "version": "3.9.6"
  }
 },
 "nbformat": 4,
 "nbformat_minor": 5
}
